{
 "cells": [
  {
   "cell_type": "markdown",
   "metadata": {},
   "source": [
    "# Mean, Median, Mode, and introducing NumPy"
   ]
  },
  {
   "cell_type": "markdown",
   "metadata": {},
   "source": [
    "## Mean vs. Median"
   ]
  },
  {
   "cell_type": "markdown",
   "metadata": {},
   "source": [
    "Let's create some fake income data, centered around 27,000 with a normal distribution and standard deviation of 15,000, with 10,000 data points. (We'll discuss those terms more later, if you're not familiar with them.)\n",
    "\n",
    "Then, compute the mean (average) - it should be close to 27,000:"
   ]
  },
  {
   "cell_type": "code",
   "execution_count": 5,
   "metadata": {},
   "outputs": [
    {
     "data": {
      "text/plain": [
       "26894.0769420588"
      ]
     },
     "execution_count": 5,
     "metadata": {},
     "output_type": "execute_result"
    }
   ],
   "source": [
    "import numpy as np\n",
    "\n",
    "incomes = np.random.normal(27000, 15000, 10000)\n",
    "np.mean(incomes)"
   ]
  },
  {
   "cell_type": "markdown",
   "metadata": {},
   "source": [
    "We can segment the income data into 50 buckets, and plot it as a histogram:"
   ]
  },
  {
   "cell_type": "code",
   "execution_count": 6,
   "metadata": {},
   "outputs": [
    {
     "data": {
      "image/png": "[encoded data removed]",
      "text/plain": [
       "<Figure size 432x288 with 1 Axes>"
      ]
     },
     "metadata": {
      "needs_background": "light"
     },
     "output_type": "display_data"
    }
   ],
   "source": [
    "%matplotlib inline\n",
    "import matplotlib.pyplot as plt\n",
    "plt.hist(incomes, 50)\n",
    "plt.show()"
   ]
  },
  {
   "cell_type": "markdown",
   "metadata": {},
   "source": [
    "Now compute the median - since we have a nice, even distribution it too should be close to 27,000:"
   ]
  },
  {
   "cell_type": "code",
   "execution_count": 7,
   "metadata": {},
   "outputs": [
    {
     "data": {
      "text/plain": [
       "26901.65662122394"
      ]
     },
     "execution_count": 7,
     "metadata": {},
     "output_type": "execute_result"
    }
   ],
   "source": [
    "np.median(incomes)"
   ]
  },
  {
   "cell_type": "markdown",
   "metadata": {},
   "source": [
    "Now we'll add Jeff Bezos into the mix. Darn income inequality!"
   ]
  },
  {
   "cell_type": "code",
   "execution_count": 8,
   "metadata": {},
   "outputs": [],
   "source": [
    "incomes = np.append(incomes, [1000000000])"
   ]
  },
  {
   "cell_type": "markdown",
   "metadata": {},
   "source": [
    "The median won't change much, but the mean does:"
   ]
  },
  {
   "cell_type": "code",
   "execution_count": 9,
   "metadata": {},
   "outputs": [
    {
     "data": {
      "text/plain": [
       "26904.88806511568"
      ]
     },
     "execution_count": 9,
     "metadata": {},
     "output_type": "execute_result"
    }
   ],
   "source": [
    "np.median(incomes)"
   ]
  },
  {
   "cell_type": "code",
   "execution_count": 10,
   "metadata": {},
   "outputs": [
    {
     "data": {
      "text/plain": [
       "126881.38880317849"
      ]
     },
     "execution_count": 10,
     "metadata": {},
     "output_type": "execute_result"
    }
   ],
   "source": [
    "np.mean(incomes)"
   ]
  },
  {
   "cell_type": "markdown",
   "metadata": {},
   "source": [
    "## Mode"
   ]
  },
  {
   "cell_type": "markdown",
   "metadata": {},
   "source": [
    "Next, let's generate some fake age data for 500 people:"
   ]
  },
  {
   "cell_type": "code",
   "execution_count": 13,
   "metadata": {},
   "outputs": [
    {
     "data": {
      "text/plain": [
       "array([21, 24, 34, 64, 83, 63, 72, 60, 65, 32, 39, 43, 65, 84, 74, 35, 29,\n",
       "       67, 65, 33, 27, 84, 69, 53, 39, 23, 28, 25, 34, 27, 50, 73, 32, 28,\n",
       "       63, 28, 31, 19, 46, 62, 34, 78, 89, 47, 84, 73, 32, 40, 31, 40, 38,\n",
       "       35, 80, 22, 88, 88, 23, 82, 56, 24, 31, 72, 29, 49, 81, 47, 45, 21,\n",
       "       87, 43, 43, 81, 84, 79, 38, 78, 34, 80, 42, 62, 64, 53, 24, 64, 28,\n",
       "       32, 84, 47, 67, 25, 77, 36, 88, 20, 57, 49, 40, 63, 81, 26, 29, 85,\n",
       "       82, 64, 25, 86, 21, 54, 34, 84, 89, 60, 67, 64, 75, 73, 21, 64, 81,\n",
       "       87, 74, 70, 24, 18, 42, 57, 35, 70, 27, 31, 19, 58, 47, 31, 82, 48,\n",
       "       77, 42, 22, 82, 54, 59, 73, 79, 65, 23, 19, 84, 54, 53, 68, 50, 84,\n",
       "       43, 66, 66, 31, 36, 66, 85, 42, 88, 40, 29, 66, 81, 51, 41, 83, 21,\n",
       "       81, 31, 35, 50, 69, 75, 74, 24, 24, 77, 74, 31, 63, 73, 87, 75, 50,\n",
       "       56, 58, 67, 41, 32, 63, 84, 87, 59, 35, 47, 43, 54, 56, 41, 23, 25,\n",
       "       56, 28, 48, 82, 86, 68, 20, 54, 49, 66, 44, 64, 68, 34, 44, 44, 76,\n",
       "       50, 45, 56, 48, 36, 88, 49, 43, 56, 71, 47, 50, 21, 25, 19, 85, 77,\n",
       "       79, 84, 30, 33, 61, 86, 66, 86, 53, 88, 78, 25, 33, 58, 54, 78, 32,\n",
       "       41, 70, 33, 73, 62, 69, 59, 78, 89, 77, 68, 33, 19, 42, 80, 45, 60,\n",
       "       20, 33, 86, 24, 63, 59, 67, 23, 60, 50, 81, 66, 50, 71, 51, 78, 50,\n",
       "       66, 59, 28, 60, 34, 27, 62, 54, 33, 83, 64, 51, 69, 22, 56, 19, 59,\n",
       "       33, 23, 79, 76, 19, 42, 88, 49, 74, 79, 85, 28, 43, 50, 55, 31, 62,\n",
       "       53, 78, 81, 68, 79, 24, 55, 89, 73, 83, 19, 24, 60, 71, 87, 62, 78,\n",
       "       28, 61, 41, 87, 37, 87, 29, 54, 82, 69, 53, 61, 50, 86, 27, 67, 46,\n",
       "       78, 58, 37, 22, 34, 87, 22, 24, 56, 48, 53, 84, 58, 72, 71, 75, 89,\n",
       "       89, 73, 73, 61, 73, 77, 79, 68, 71, 80, 61, 49, 69, 46, 67, 28, 84,\n",
       "       53, 59, 18, 27, 36, 63, 67, 45, 55, 66, 33, 85, 31, 46, 51, 73, 43,\n",
       "       37, 49, 32, 75, 89, 87, 50, 65, 22, 30, 29, 57, 76, 68, 46, 80, 81,\n",
       "       67, 24, 52, 41, 88, 31, 52, 20, 32, 61, 33, 55, 49, 34, 64, 30, 24,\n",
       "       21, 37, 54, 63, 42, 50, 43, 83, 78, 46, 50, 23, 70, 18, 26, 33, 48,\n",
       "       62, 86, 88, 84, 39, 60, 30, 21, 73, 29, 74, 71, 48, 75, 56, 78, 71,\n",
       "       59, 27, 84, 82, 39, 35, 25, 52, 89, 58, 88, 25, 66, 62, 75, 24, 32,\n",
       "       85, 51, 64, 78, 33, 40, 67])"
      ]
     },
     "execution_count": 13,
     "metadata": {},
     "output_type": "execute_result"
    }
   ],
   "source": [
    "ages = np.random.randint(18, high=90, size=500)\n",
    "ages"
   ]
  },
  {
   "cell_type": "code",
   "execution_count": 14,
   "metadata": {},
   "outputs": [
    {
     "data": {
      "text/plain": [
       "ModeResult(mode=array([50]), count=array([14]))"
      ]
     },
     "execution_count": 14,
     "metadata": {},
     "output_type": "execute_result"
    }
   ],
   "source": [
    "from scipy import stats\n",
    "stats.mode(ages)"
   ]
  }
 ],
 "metadata": {
  "kernelspec": {
   "display_name": "Python 3 (ipykernel)",
   "language": "python",
   "name": "python3"
  },
  "language_info": {
   "codemirror_mode": {
    "name": "ipython",
    "version": 3
   },
   "file_extension": ".py",
   "mimetype": "text/x-python",
   "name": "python",
   "nbconvert_exporter": "python",
   "pygments_lexer": "ipython3",
   "version": "3.8.2"
  }
 },
 "nbformat": 4,
 "nbformat_minor": 1
}
